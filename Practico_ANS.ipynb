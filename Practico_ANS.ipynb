{
 "cells": [
  {
   "cell_type": "markdown",
   "metadata": {},
   "source": [
    "# **Practico Mentoria - Aprendizaje No Supervisado**"
   ]
  },
  {
   "cell_type": "markdown",
   "metadata": {},
   "source": [
    "Se propone la elaboración de un informe o presentación, en formato estatico:\n",
    "* PDF\n",
    "* Markdowns\n",
    "* Google Docs\n",
    "\n",
    "Que responda a las cuestiones solicitadas en cada seccion de esta **Jupyter Notebook**.\n",
    "\n",
    "La comunicación debe estar apuntada a un público técnico pero sin conocimiento del tema particular, como por ejemplo, sus compañeros de clase.  \n",
    "Por lo cual debe estar redactado de forma consisa y comprensible."
   ]
  },
  {
   "cell_type": "markdown",
   "metadata": {},
   "source": [
    "## **Referencias**:\n",
    "* https://towardsdatascience.com/how-to-apply-k-means-clustering-to-time-series-data-28d04a8f7da3\n",
    "* https://www.intechopen.com/online-first/clustering-of-time-series-data\n",
    "* http://halweb.uc3m.es/esp/Personal/personas/amalonso/esp/ASDM-C02-clustering.pdf\n",
    "* https://tslearn.readthedocs.io/en/stable/"
   ]
  },
  {
   "cell_type": "markdown",
   "metadata": {},
   "source": [
    "## **Clustering to Time Series Data**\n",
    "\n",
    "La idea de este practico es poder aplicar Tecnicas de Clustering sobre los diferentes `PUNTO_MEDICION` (que podemos considerar como Series Temporales independientes), con el fin de determinar diferentes agrupamientos en donde los `PUNTOS_MEDICION` sean similares, en algun sentido. \n",
    "\n",
    "Para ello pueden utilizar la libreria `tslearn`, la cual es una libreria de machine learning para el analisis de Series Temporales, construidas a partir de la las librerias `scikit-learn` y `numpy` entre otras."
   ]
  },
  {
   "cell_type": "code",
   "execution_count": null,
   "metadata": {},
   "outputs": [],
   "source": [
    "import numpy as np\n",
    "import pandas as pd\n",
    "import matplotlib.pyplot as plt\n",
    "import seaborn as sns\n",
    "import datetime\n",
    "\n",
    "from scipy import stats\n",
    "\n",
    "import warnings\n",
    "warnings.filterwarnings('ignore')"
   ]
  },
  {
   "cell_type": "code",
   "execution_count": null,
   "metadata": {},
   "outputs": [],
   "source": [
    "sns.set_style('whitegrid')\n",
    "sns.set(rc={'figure.figsize':(15, 5)})"
   ]
  },
  {
   "cell_type": "code",
   "execution_count": null,
   "metadata": {},
   "outputs": [],
   "source": [
    "filename = \"../Introduccion_Mentoria/dataset_inf_telec_20200501T130000_20200727T010000_v1.csv\""
   ]
  },
  {
   "cell_type": "code",
   "execution_count": null,
   "metadata": {},
   "outputs": [],
   "source": [
    "df = pd.read_csv(\n",
    "    filename,\n",
    "    dtype={\n",
    "        'ID_EQUIPO': int,\n",
    "        'PUNTO_MEDICION': str,\n",
    "        'CAPACIDAD_MAXIMA_GBS': float,\n",
    "        'PASO': int,\n",
    "        'LATENCIA_MS': float,\n",
    "        'PORCENTAJE_PACK_LOSS': float,\n",
    "        'INBOUND_BITS': np.float64,\n",
    "        'OUTBOUND_BITS': np.float64,\n",
    "        'MEDIDA': str,\n",
    "    },\n",
    "    index_col='FECHA_HORA',\n",
    "    parse_dates=[\n",
    "        'FECHA_INICIO_MEDICION',\n",
    "        'FECHA_HORA',\n",
    "        'FECHA_FIN_MEDICION',\n",
    "    ],\n",
    "    na_values=['NaN']\n",
    ")\n",
    "\n",
    "print(df.shape)\n",
    "display(df.head(10))"
   ]
  },
  {
   "cell_type": "code",
   "execution_count": null,
   "metadata": {},
   "outputs": [],
   "source": []
  }
 ],
 "metadata": {
  "kernelspec": {
   "display_name": "Python 3",
   "language": "python",
   "name": "python3"
  },
  "language_info": {
   "codemirror_mode": {
    "name": "ipython",
    "version": 3
   },
   "file_extension": ".py",
   "mimetype": "text/x-python",
   "name": "python",
   "nbconvert_exporter": "python",
   "pygments_lexer": "ipython3",
   "version": "3.6.10"
  }
 },
 "nbformat": 4,
 "nbformat_minor": 4
}
